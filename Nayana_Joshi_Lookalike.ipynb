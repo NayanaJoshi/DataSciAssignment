{
 "cells": [
  {
   "cell_type": "markdown",
   "id": "819ebd85-d6c6-4919-8795-e6e4eac7ac4f",
   "metadata": {},
   "source": [
    "#### Import Libraries"
   ]
  },
  {
   "cell_type": "code",
   "execution_count": 1,
   "id": "aae1224c-2419-4102-8aaa-79b90129bf48",
   "metadata": {},
   "outputs": [],
   "source": [
    "import pandas as pd\n",
    "import numpy as np\n",
    "from sklearn.metrics.pairwise import cosine_similarity\n",
    "from sklearn.preprocessing import StandardScaler\n"
   ]
  },
  {
   "cell_type": "markdown",
   "id": "8f032fed-41d2-4919-9d41-4be5d89f376c",
   "metadata": {},
   "source": [
    "#### Load the data"
   ]
  },
  {
   "cell_type": "code",
   "execution_count": 2,
   "id": "44f0fbe5-44ab-4769-b006-9dae1aef864a",
   "metadata": {},
   "outputs": [
    {
     "name": "stdout",
     "output_type": "stream",
     "text": [
      "  CustomerID        CustomerName         Region  SignupDate\n",
      "0      C0001    Lawrence Carroll  South America  2022-07-10\n",
      "1      C0002      Elizabeth Lutz           Asia  2022-02-13\n",
      "2      C0003      Michael Rivera  South America  2024-03-07\n",
      "3      C0004  Kathleen Rodriguez  South America  2022-10-09\n",
      "4      C0005         Laura Weber           Asia  2022-08-15\n",
      "  ProductID              ProductName     Category   Price\n",
      "0      P001     ActiveWear Biography        Books  169.30\n",
      "1      P002    ActiveWear Smartwatch  Electronics  346.30\n",
      "2      P003  ComfortLiving Biography        Books   44.12\n",
      "3      P004            BookWorld Rug   Home Decor   95.69\n",
      "4      P005          TechPro T-Shirt     Clothing  429.31\n",
      "  TransactionID CustomerID ProductID      TransactionDate  Quantity  \\\n",
      "0        T00001      C0199      P067  2024-08-25 12:38:23         1   \n",
      "1        T00112      C0146      P067  2024-05-27 22:23:54         1   \n",
      "2        T00166      C0127      P067   2024-04-25 7:38:55         1   \n",
      "3        T00272      C0087      P067  2024-03-26 22:55:37         2   \n",
      "4        T00363      C0070      P067  2024-03-21 15:10:10         3   \n",
      "\n",
      "   TotalValue   Price  \n",
      "0      300.68  300.68  \n",
      "1      300.68  300.68  \n",
      "2      300.68  300.68  \n",
      "3      601.36  300.68  \n",
      "4      902.04  300.68  \n"
     ]
    }
   ],
   "source": [
    "# Load the datasets\n",
    "customers_df = pd.read_csv('Customers.csv')\n",
    "products_df = pd.read_csv('Products.csv')\n",
    "transactions_df = pd.read_csv('Transactions.csv')\n",
    "\n",
    "# Display the first few rows of each to ensure data is loaded correctly\n",
    "print(customers_df.head())\n",
    "print(products_df.head())\n",
    "print(transactions_df.head())"
   ]
  },
  {
   "cell_type": "markdown",
   "id": "5b2ed79e-f971-4450-be94-acf05e78e646",
   "metadata": {},
   "source": [
    "#### Data Preprocessing"
   ]
  },
  {
   "cell_type": "markdown",
   "id": "2c68ca88-1427-4da2-afe2-a9f9ac2387df",
   "metadata": {},
   "source": [
    "Customer Profile Features: We can encode customer profile information, such as Region and calculate the number of days since the SignupDate."
   ]
  },
  {
   "cell_type": "code",
   "execution_count": 10,
   "id": "bb2c7692-b31b-4c2f-81f9-8610a31ddc2f",
   "metadata": {},
   "outputs": [],
   "source": [
    "# Encoding categorical data (Region)\n",
    "\n",
    "customers_df['Region'] = customers_df['Region'].astype('category').cat.codes\n",
    "\n",
    "\n",
    "# Calculate days since signup\n",
    "customers_df['SignupDate'] = pd.to_datetime(customers_df['SignupDate'])\n",
    "customers_df['DaysSinceSignup'] = (pd.to_datetime('today') - customers_df['SignupDate']).dt.days\n"
   ]
  },
  {
   "cell_type": "markdown",
   "id": "73405687-8427-425e-8ef1-0da7dcc1b273",
   "metadata": {},
   "source": [
    "Transaction History Features: Aggregate transaction data to create a transaction profile per customer."
   ]
  },
  {
   "cell_type": "code",
   "execution_count": 4,
   "id": "9abaf196-e033-43dc-856a-d9c97b4555ca",
   "metadata": {},
   "outputs": [],
   "source": [
    "# Aggregating transaction data per customer\n",
    "transactions_df['TransactionDate'] = pd.to_datetime(transactions_df['TransactionDate'])\n",
    "transaction_agg = transactions_df.groupby('CustomerID').agg(\n",
    "    total_spend=('TotalValue', 'sum'),\n",
    "    total_transactions=('TransactionID', 'count'),\n",
    "    unique_products=('ProductID', 'nunique')\n",
    ").reset_index()\n",
    "\n",
    "# Merging transaction features with customer data\n",
    "customer_data = customers_df.merge(transaction_agg, on='CustomerID', how='left')\n",
    "\n",
    "# Features for the model\n",
    "customer_features = customer_data[['Region', 'DaysSinceSignup', 'total_spend', 'total_transactions', 'unique_products']]\n",
    "\n"
   ]
  },
  {
   "cell_type": "code",
   "execution_count": 5,
   "id": "f492e22c-47a8-49e7-93e4-ee5a84c54b99",
   "metadata": {},
   "outputs": [
    {
     "name": "stdout",
     "output_type": "stream",
     "text": [
      "Region                0\n",
      "DaysSinceSignup       0\n",
      "total_spend           1\n",
      "total_transactions    1\n",
      "unique_products       1\n",
      "dtype: int64\n"
     ]
    }
   ],
   "source": [
    "# Check for missing values\n",
    "print(customer_features.isnull().sum())"
   ]
  },
  {
   "cell_type": "code",
   "execution_count": 6,
   "id": "e2e93d18-9143-4ceb-8c2b-ded24ee5760e",
   "metadata": {},
   "outputs": [],
   "source": [
    "# Option 1: Fill missing values with the mean\n",
    "customer_features = customer_features.fillna(customer_features.mean())"
   ]
  },
  {
   "cell_type": "markdown",
   "id": "31add00c-ec7e-44e7-aae0-452f2d4e4d3a",
   "metadata": {},
   "source": [
    "#### Normalize the data (Scaling)"
   ]
  },
  {
   "cell_type": "code",
   "execution_count": 7,
   "id": "c48abbba-ddb8-42a1-98bd-69c1c3aa5564",
   "metadata": {},
   "outputs": [],
   "source": [
    "# Since different features (e.g., total_spend and Region) might have different scales, it's important to normalize the data.\n",
    "# Normalize the features\n",
    "scaler = StandardScaler()\n",
    "customer_features_scaled = scaler.fit_transform(customer_features)\n"
   ]
  },
  {
   "cell_type": "markdown",
   "id": "78ef2c62-591e-4a0b-9d2f-37ed0bc27330",
   "metadata": {},
   "source": [
    "#### Calculate cosine similarity"
   ]
  },
  {
   "cell_type": "code",
   "execution_count": 12,
   "id": "f50d8538-472f-4b2a-b775-42fec910d312",
   "metadata": {},
   "outputs": [],
   "source": [
    "from sklearn.metrics.pairwise import cosine_similarity\n",
    "\n",
    "# Compute cosine similarity matrix\n",
    "cosine_sim = cosine_similarity(customer_features_scaled)\n",
    "\n",
    "# Function to get top 3 similar customers for a given customer\n",
    "def get_top_lookalikes(customer_id, cosine_sim_matrix, customer_data, top_n=3):\n",
    "    customer_index = customer_data[customer_data['CustomerID'] == customer_id].index[0]\n",
    "    similarity_scores = list(enumerate(cosine_sim_matrix[customer_index]))\n",
    "    \n",
    "    # Sort customers by similarity score in descending order, excluding self (index == customer_index)\n",
    "    sorted_scores = sorted(similarity_scores, key=lambda x: x[1], reverse=True)\n",
    "    \n",
    "    lookalikes = []\n",
    "    for idx, score in sorted_scores[1:top_n+1]:  # Skipping the first result (self)\n",
    "        lookalikes.append((customer_data.iloc[idx]['CustomerID'], score))\n",
    "    \n",
    "    return lookalikes\n",
    "\n",
    "# Generate Lookalikes for customers C0001 to C0020\n",
    "lookalike_results = {}\n",
    "for i in range(1, 21):\n",
    "    customer_id = f'C{i:04d}'\n",
    "    lookalikes = get_top_lookalikes(customer_id, cosine_sim, customer_data)\n",
    "    lookalike_results[customer_id] = lookalikes\n"
   ]
  },
  {
   "cell_type": "code",
   "execution_count": 13,
   "id": "060ae9c8-5a92-4ba0-847b-552d56ed2133",
   "metadata": {},
   "outputs": [
    {
     "name": "stdout",
     "output_type": "stream",
     "text": [
      "  cust_id                                         lookalikes\n",
      "0   C0001  [('C0152', 0.9950433733482509), ('C0174', 0.96...\n",
      "1   C0002  [('C0027', 0.9445585739168655), ('C0134', 0.94...\n",
      "2   C0003  [('C0031', 0.9773487825635152), ('C0052', 0.96...\n",
      "3   C0004  [('C0108', 0.9813752769127972), ('C0102', 0.97...\n",
      "4   C0005  [('C0159', 0.9998906371426377), ('C0007', 0.98...\n"
     ]
    }
   ],
   "source": [
    "\n",
    "# Create a DataFrame to save the results\n",
    "lookalike_df = pd.DataFrame({\n",
    "    'cust_id': list(lookalike_results.keys()),\n",
    "    'lookalikes': [str(lookalike_results[cust_id]) for cust_id in lookalike_results]\n",
    "})\n",
    "\n",
    "# Save the result to a CSV file\n",
    "lookalike_df.to_csv('Lookalike.csv', index=False)\n",
    "\n",
    "# Display a preview of the saved results\n",
    "print(lookalike_df.head())\n"
   ]
  },
  {
   "cell_type": "code",
   "execution_count": null,
   "id": "e4702955-e8c0-42c7-a342-643d36cd6873",
   "metadata": {},
   "outputs": [],
   "source": []
  }
 ],
 "metadata": {
  "kernelspec": {
   "display_name": "Python 3 (ipykernel)",
   "language": "python",
   "name": "python3"
  },
  "language_info": {
   "codemirror_mode": {
    "name": "ipython",
    "version": 3
   },
   "file_extension": ".py",
   "mimetype": "text/x-python",
   "name": "python",
   "nbconvert_exporter": "python",
   "pygments_lexer": "ipython3",
   "version": "3.12.4"
  }
 },
 "nbformat": 4,
 "nbformat_minor": 5
}
